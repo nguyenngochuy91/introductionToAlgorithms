{
 "cells": [
  {
   "cell_type": "markdown",
   "metadata": {},
   "source": [
    "# Sorting\n",
    "In our life, we have came across a lot of problem that organizing item can be advantageous. Indeed, if we are organized, we can find our stuff easier. For example, we want to sort list of contact name by alphabet, so that when we can look up a person contact faster than having to scan through all of the contacts. \n",
    "\n",
    "In algorithms, much of the time, a sorted array give us an edge in perform certain computations, especially searching. Therefore, understanding how to sort, and how to do it fast is very important. \n",
    "\n",
    "## Insertion Sort\n",
    "The idea is quite intuitive. Let us say we currently have a sorted array, and we are given a new number. How can we insert this new number in the correct position in our array. One idea is to find the first correct position to insert it, then shift everything from that position to the right. This idea is quite simple to implement, however, shifting can be quite expensive. The other idea is just swap out the number at the correct index, and treat this number as a number to insert to the correct position again. Overall, the second method might perform a lower amount of operations. Following is an implementation of the second approach\n",
    "1. Algorithm:"
   ]
  },
  {
   "cell_type": "code",
   "execution_count": 2,
   "metadata": {},
   "outputs": [
    {
     "name": "stdout",
     "output_type": "stream",
     "text": [
      "[1, 3, 4, 5, 6, 3]\n"
     ]
    }
   ],
   "source": [
    "def insertionSort(array):\n",
    "    for i in range(1,len(array)):\n",
    "        numToInsert = array[i]\n",
    "        for j in range(i):\n",
    "            currentNum = array[j]\n",
    "            # when we find the position to insert our numToInsert\n",
    "            if currentNum>numToInsert: \n",
    "                # we swap the 2 number\n",
    "                array[j], numToInsert = numToInsert, array[j]\n",
    "        # at the end, we set of array[i] to be numToInsert\n",
    "        array[j] = numToInsert\n",
    "\n",
    "array = [5,2,4,6,1,3]\n",
    "insertionSort(array)\n",
    "print (array)"
   ]
  },
  {
   "cell_type": "markdown",
   "metadata": {},
   "source": [
    "2. Complexity:\n",
    "    1. Time: \n",
    "    The 2 for loop gives rise to a sum of $1+2+...+n = \\frac{n(n+1)}{2}$ which is basically $O(n)$\n",
    "    2. Space: \n",
    "    We basically modify the array in space, and use an extra variable to store numToInsert\n",
    "    Therefore, this is $O(1)$\n",
    "    \n"
   ]
  },
  {
   "cell_type": "markdown",
   "metadata": {},
   "source": [
    "## Merge Sort\n",
    "This follows a divide and conquer paradigm. We basically want to divide our array into smaller array, namely half of its size. Then, we sort the smaller array. After that, we combine the 2 smaller sorted array. Here, we need a helper function, namely merge to merge 2 sorted array together. \n",
    "1. Algorithm:"
   ]
  },
  {
   "cell_type": "code",
   "execution_count": null,
   "metadata": {},
   "outputs": [],
   "source": [
    "def mergeSort(array):\n",
    "    start, stop = 0, len(array)-1\n",
    "    "
   ]
  }
 ],
 "metadata": {
  "kernelspec": {
   "display_name": "Python 3",
   "language": "python",
   "name": "python3"
  },
  "language_info": {
   "codemirror_mode": {
    "name": "ipython",
    "version": 3
   },
   "file_extension": ".py",
   "mimetype": "text/x-python",
   "name": "python",
   "nbconvert_exporter": "python",
   "pygments_lexer": "ipython3",
   "version": "3.6.9"
  }
 },
 "nbformat": 4,
 "nbformat_minor": 2
}
