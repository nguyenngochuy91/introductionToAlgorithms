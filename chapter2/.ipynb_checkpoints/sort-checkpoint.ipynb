{
 "cells": [
  {
   "cell_type": "markdown",
   "metadata": {},
   "source": [
    "# Sorting\n",
    "In our life, we have came across a lot of problem that organizing item can be advantageous. Indeed, if we are organized, we can find our stuff easier. For example, we want to sort list of contact name by alphabet, so that when we can look up a person contact faster than having to scan through all of the contacts. \n",
    "\n",
    "In algorithms, much of the time, a sorted array give us an edge in perform certain computations, especially searching. Therefore, understanding how to sort, and how to do it fast is very important. \n",
    "\n",
    "## Insertion Sort\n",
    "The idea is quite intuitive. Let us say we currently have a sorted array, and we are given a new number. "
   ]
  }
 ],
 "metadata": {
  "kernelspec": {
   "display_name": "Python 3",
   "language": "python",
   "name": "python3"
  },
  "language_info": {
   "codemirror_mode": {
    "name": "ipython",
    "version": 3
   },
   "file_extension": ".py",
   "mimetype": "text/x-python",
   "name": "python",
   "nbconvert_exporter": "python",
   "pygments_lexer": "ipython3",
   "version": "3.6.9"
  }
 },
 "nbformat": 4,
 "nbformat_minor": 2
}
